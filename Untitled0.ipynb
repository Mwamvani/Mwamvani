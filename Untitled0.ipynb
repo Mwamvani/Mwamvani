{
  "nbformat": 4,
  "nbformat_minor": 0,
  "metadata": {
    "colab": {
      "provenance": [],
      "toc_visible": true,
      "authorship_tag": "ABX9TyOhjH2Y6DGSLEzK1n1s8gwU",
      "include_colab_link": true
    },
    "kernelspec": {
      "name": "python3",
      "display_name": "Python 3"
    },
    "language_info": {
      "name": "python"
    }
  },
  "cells": [
    {
      "cell_type": "markdown",
      "metadata": {
        "id": "view-in-github",
        "colab_type": "text"
      },
      "source": [
        "<a href=\"https://colab.research.google.com/github/Mwamvani/Mwamvani/blob/main/Untitled0.ipynb\" target=\"_parent\"><img src=\"https://colab.research.google.com/assets/colab-badge.svg\" alt=\"Open In Colab\"/></a>"
      ]
    },
    {
      "cell_type": "code",
      "source": [
        "#source networkx.org/documentation/stable/tutorial.html\n",
        "import networkx as  nx"
      ],
      "metadata": {
        "id": "bxdjKtGoHJMs"
      },
      "execution_count": 1,
      "outputs": []
    },
    {
      "cell_type": "code",
      "source": [
        "#create graph\n",
        "G = nx.Graph()\n",
        "G.add_edge(0, 2)\n",
        "G.add_edge(1, 2)\n",
        "G.add_edge(1, 3)\n",
        "G.add_edge(5, 3)\n",
        "G.add_edge(3, 4)\n",
        "G.add_edge(1, 0)"
      ],
      "metadata": {
        "id": "xffF1D4THuC9"
      },
      "execution_count": 2,
      "outputs": []
    },
    {
      "cell_type": "code",
      "source": [
        "#Use librabry function to visualise network\n",
        "nx.draw_networkx(G)"
      ],
      "metadata": {
        "colab": {
          "base_uri": "https://localhost:8080/",
          "height": 406
        },
        "id": "_nI4qJqjIaC8",
        "outputId": "2894f135-0707-4822-df55-1a4723e57633"
      },
      "execution_count": 3,
      "outputs": [
        {
          "output_type": "display_data",
          "data": {
            "text/plain": [
              "<Figure size 640x480 with 1 Axes>"
            ],
            "image/png": "[encoded data removed]"
          },
          "metadata": {}
        }
      ]
    },
    {
      "cell_type": "code",
      "source": [
        "G.is_directed()\n",
        "G.edges()"
      ],
      "metadata": {
        "colab": {
          "base_uri": "https://localhost:8080/"
        },
        "id": "AwoFTdYAKfAV",
        "outputId": "14d5313e-06c1-4a09-eab1-1e67892909a1"
      },
      "execution_count": 5,
      "outputs": [
        {
          "output_type": "execute_result",
          "data": {
            "text/plain": [
              "EdgeView([(0, 2), (0, 1), (2, 1), (1, 3), (3, 5), (3, 4)])"
            ]
          },
          "metadata": {},
          "execution_count": 5
        }
      ]
    },
    {
      "cell_type": "code",
      "source": [
        "print(\"Total number of nodes:\", int(G.number_of_edges()))\n",
        "print(\"Total number of nodes:\", int(G.number_of_edges()))\n",
        "print(\"List of all nodes:\", list(G.nodes()))\n",
        "print(\"List of all edges:\", list(G.edges(data = True)))\n",
        "print(\"Degree of all nodes:\", dict(G.degree()))\n",
        "\n",
        "print(\"Total number of self-loops:\", int(nx.number_of_selfloops(G)))\n",
        "print(\"List of all nodes with self-loops:\", list(nx.nodes_with_selfloops(G)))\n",
        "print(\"List of all nodes we can go in a single step from 2:\", list(G.neighbors(2)))"
      ],
      "metadata": {
        "colab": {
          "base_uri": "https://localhost:8080/"
        },
        "id": "yYRu2PFTLDOd",
        "outputId": "2f03a930-87e5-440c-ce59-e33f88caf675"
      },
      "execution_count": 10,
      "outputs": [
        {
          "output_type": "stream",
          "name": "stdout",
          "text": [
            "Total number of nodes: 6\n",
            "Total number of nodes: 6\n",
            "List of all nodes: [0, 2, 1, 3, 5, 4]\n",
            "List of all edges: [(0, 2, {}), (0, 1, {}), (2, 1, {}), (1, 3, {}), (3, 5, {}), (3, 4, {})]\n",
            "Degree of all nodes: {0: 2, 2: 2, 1: 3, 3: 3, 5: 1, 4: 1}\n",
            "Total number of self-loops: 0\n",
            "List of all nodes with self-loops: []\n",
            "List of all nodes we can go in a single step from 2: [0, 1]\n"
          ]
        }
      ]
    },
    {
      "cell_type": "code",
      "source": [
        "#attach weights to the graph\n",
        "weights=[5,4,6,7,8,9]\n",
        "node_names=['Blantyre','Lilongwe','Nsanje','Kasungu','Mzuzu','Karonga']\n",
        "regions=['South','Central','South','Central','North','North']\n",
        "G.edges()"
      ],
      "metadata": {
        "colab": {
          "base_uri": "https://localhost:8080/"
        },
        "id": "VQL0E8mOPaol",
        "outputId": "cff87e88-8d2f-45e6-be3f-e82cf294551f"
      },
      "execution_count": 20,
      "outputs": [
        {
          "output_type": "execute_result",
          "data": {
            "text/plain": [
              "EdgeView([(0, 2), (0, 1), (2, 1), (1, 3), (3, 5), (3, 4)])"
            ]
          },
          "metadata": {},
          "execution_count": 20
        }
      ]
    },
    {
      "cell_type": "code",
      "source": [
        "i=0\n",
        "for e in G.edges():\n",
        "  G.edges[e[0],e[1]]['weight']=weights[i]\n",
        "  i+=1\n",
        "  print(e,type(e),e[0],e[1])\n",
        "print(G.edges(data = True))"
      ],
      "metadata": {
        "id": "6y_JEFYVQdWM"
      },
      "execution_count": null,
      "outputs": []
    },
    {
      "cell_type": "code",
      "source": [
        "#add names of nodes from the list  node_names\n",
        "print(type(G.nodes()),G.nodes())\n",
        "G.nodes().data()\n",
        "i=0\n",
        "for node in G.nodes():\n",
        "  G.nodes[node]['city name']=node_names[i]\n",
        "  G.nodes[node]['region']=regions[i]\n",
        "  i+=1\n",
        "  print(G.nodes().data())"
      ],
      "metadata": {
        "colab": {
          "base_uri": "https://localhost:8080/"
        },
        "id": "JduFpCGMTHDE",
        "outputId": "f62be41f-4e1d-41cf-e96d-bb12c99fcdff"
      },
      "execution_count": 21,
      "outputs": [
        {
          "output_type": "stream",
          "name": "stdout",
          "text": [
            "<class 'networkx.classes.reportviews.NodeView'> [0, 2, 1, 3, 5, 4]\n",
            "[(0, {'city name': 'Blantyre', 'region': 'South'}), (2, {}), (1, {}), (3, {}), (5, {}), (4, {})]\n",
            "[(0, {'city name': 'Blantyre', 'region': 'South'}), (2, {'city name': 'Lilongwe', 'region': 'Central'}), (1, {}), (3, {}), (5, {}), (4, {})]\n",
            "[(0, {'city name': 'Blantyre', 'region': 'South'}), (2, {'city name': 'Lilongwe', 'region': 'Central'}), (1, {'city name': 'Nsanje', 'region': 'South'}), (3, {}), (5, {}), (4, {})]\n",
            "[(0, {'city name': 'Blantyre', 'region': 'South'}), (2, {'city name': 'Lilongwe', 'region': 'Central'}), (1, {'city name': 'Nsanje', 'region': 'South'}), (3, {'city name': 'Kasungu', 'region': 'Central'}), (5, {}), (4, {})]\n",
            "[(0, {'city name': 'Blantyre', 'region': 'South'}), (2, {'city name': 'Lilongwe', 'region': 'Central'}), (1, {'city name': 'Nsanje', 'region': 'South'}), (3, {'city name': 'Kasungu', 'region': 'Central'}), (5, {'city name': 'Mzuzu', 'region': 'North'}), (4, {})]\n",
            "[(0, {'city name': 'Blantyre', 'region': 'South'}), (2, {'city name': 'Lilongwe', 'region': 'Central'}), (1, {'city name': 'Nsanje', 'region': 'South'}), (3, {'city name': 'Kasungu', 'region': 'Central'}), (5, {'city name': 'Mzuzu', 'region': 'North'}), (4, {'city name': 'Karonga', 'region': 'North'})]\n"
          ]
        }
      ]
    },
    {
      "cell_type": "code",
      "source": [
        "[x for x in G.neighbors(0)] #another way of for loop"
      ],
      "metadata": {
        "colab": {
          "base_uri": "https://localhost:8080/"
        },
        "id": "ffo2JeeJWT-M",
        "outputId": "7c53e92a-530c-4843-cc2d-47d74130a226"
      },
      "execution_count": 23,
      "outputs": [
        {
          "output_type": "execute_result",
          "data": {
            "text/plain": [
              "[2, 1]"
            ]
          },
          "metadata": {},
          "execution_count": 23
        }
      ]
    },
    {
      "cell_type": "code",
      "source": [],
      "metadata": {
        "id": "AR1Kn6QaX9_l"
      },
      "execution_count": null,
      "outputs": []
    },
    {
      "cell_type": "code",
      "source": [
        "Visted=[] #list of nodes\n",
        "Q=[] #list of paths - tuple (A S)\n",
        "S='0'\n",
        "G = '5'\n",
        "Q.append(tuple(S)) #added the start positioN onto the queue\n",
        "print(Q)\n",
        "c=Q.pop(0)[0]\n",
        "print(c)"
      ],
      "metadata": {
        "colab": {
          "base_uri": "https://localhost:8080/"
        },
        "id": "9Kv1tkcgX-Bi",
        "outputId": "e0a3feb9-89dd-48c2-f768-fe25118c3cbb"
      },
      "execution_count": 28,
      "outputs": [
        {
          "output_type": "stream",
          "name": "stdout",
          "text": [
            "[('0',)]\n",
            "0\n"
          ]
        }
      ]
    },
    {
      "cell_type": "code",
      "source": [
        "while(len(Q)>0): #Q is not empty\n",
        "#check the first element in Q if it is the goal\n",
        "current = Q.pop(0)[0] #this is a path in reverse\n",
        "#if goal stop\n",
        "#else dequeue into current\n",
        "#for all neigbours of current that are not visited\n",
        "#add paths into Q"
      ],
      "metadata": {
        "id": "x3kqrozhazzS"
      },
      "execution_count": null,
      "outputs": []
    }
  ]
}